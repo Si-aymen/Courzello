{
 "cells": [
  {
   "cell_type": "code",
   "execution_count": 15,
   "id": "21ea1be1",
   "metadata": {},
   "outputs": [],
   "source": [
    "import pandas as pd \n"
   ]
  },
  {
   "cell_type": "markdown",
   "id": "15c594cf",
   "metadata": {},
   "source": [
    "# UPLoad Dataset "
   ]
  },
  {
   "cell_type": "code",
   "execution_count": 16,
   "id": "85074f46",
   "metadata": {},
   "outputs": [],
   "source": [
    "courses = pd.read_csv('course_dataset.csv')\n"
   ]
  },
  {
   "cell_type": "code",
   "execution_count": 17,
   "id": "4849c374",
   "metadata": {},
   "outputs": [
    {
     "data": {
      "text/html": [
       "<div>\n",
       "<style scoped>\n",
       "    .dataframe tbody tr th:only-of-type {\n",
       "        vertical-align: middle;\n",
       "    }\n",
       "\n",
       "    .dataframe tbody tr th {\n",
       "        vertical-align: top;\n",
       "    }\n",
       "\n",
       "    .dataframe thead th {\n",
       "        text-align: right;\n",
       "    }\n",
       "</style>\n",
       "<table border=\"1\" class=\"dataframe\">\n",
       "  <thead>\n",
       "    <tr style=\"text-align: right;\">\n",
       "      <th></th>\n",
       "      <th>index</th>\n",
       "      <th>course_title</th>\n",
       "      <th>url</th>\n",
       "      <th>certification</th>\n",
       "      <th>level</th>\n",
       "      <th>organization</th>\n",
       "      <th>platform</th>\n",
       "    </tr>\n",
       "  </thead>\n",
       "  <tbody>\n",
       "    <tr>\n",
       "      <th>0</th>\n",
       "      <td>0</td>\n",
       "      <td>Ultimate Investment Banking Course</td>\n",
       "      <td>https://www.udemy.com/ultimate-investment-bank...</td>\n",
       "      <td>COURSE</td>\n",
       "      <td>All Levels</td>\n",
       "      <td>Business Finance</td>\n",
       "      <td>udemy</td>\n",
       "    </tr>\n",
       "    <tr>\n",
       "      <th>1</th>\n",
       "      <td>1</td>\n",
       "      <td>Complete GST Course &amp; Certification - Grow You...</td>\n",
       "      <td>https://www.udemy.com/goods-and-services-tax/</td>\n",
       "      <td>COURSE</td>\n",
       "      <td>All Levels</td>\n",
       "      <td>Business Finance</td>\n",
       "      <td>udemy</td>\n",
       "    </tr>\n",
       "    <tr>\n",
       "      <th>2</th>\n",
       "      <td>2</td>\n",
       "      <td>Financial Modeling for Business Analysts and C...</td>\n",
       "      <td>https://www.udemy.com/financial-modeling-for-b...</td>\n",
       "      <td>COURSE</td>\n",
       "      <td>Intermediate Level</td>\n",
       "      <td>Business Finance</td>\n",
       "      <td>udemy</td>\n",
       "    </tr>\n",
       "    <tr>\n",
       "      <th>3</th>\n",
       "      <td>3</td>\n",
       "      <td>Beginner to Pro - Financial Analysis in Excel ...</td>\n",
       "      <td>https://www.udemy.com/complete-excel-finance-c...</td>\n",
       "      <td>COURSE</td>\n",
       "      <td>All Levels</td>\n",
       "      <td>Business Finance</td>\n",
       "      <td>udemy</td>\n",
       "    </tr>\n",
       "    <tr>\n",
       "      <th>4</th>\n",
       "      <td>4</td>\n",
       "      <td>How To Maximize Your Profits Trading Options</td>\n",
       "      <td>https://www.udemy.com/how-to-maximize-your-pro...</td>\n",
       "      <td>COURSE</td>\n",
       "      <td>Intermediate Level</td>\n",
       "      <td>Business Finance</td>\n",
       "      <td>udemy</td>\n",
       "    </tr>\n",
       "    <tr>\n",
       "      <th>...</th>\n",
       "      <td>...</td>\n",
       "      <td>...</td>\n",
       "      <td>...</td>\n",
       "      <td>...</td>\n",
       "      <td>...</td>\n",
       "      <td>...</td>\n",
       "      <td>...</td>\n",
       "    </tr>\n",
       "    <tr>\n",
       "      <th>4904</th>\n",
       "      <td>175</td>\n",
       "      <td>Windows Performance Monitoring Fundamentals</td>\n",
       "      <td>https://www.pluralsight.com/courses/windows-pe...</td>\n",
       "      <td>COURSE</td>\n",
       "      <td>Beginner</td>\n",
       "      <td>pluralsight</td>\n",
       "      <td>pluralsight</td>\n",
       "    </tr>\n",
       "    <tr>\n",
       "      <th>4905</th>\n",
       "      <td>176</td>\n",
       "      <td>Windows PowerShell Toolmaking Fundamentals</td>\n",
       "      <td>https://www.pluralsight.com/courses/powershell...</td>\n",
       "      <td>COURSE</td>\n",
       "      <td>Intermediate</td>\n",
       "      <td>pluralsight</td>\n",
       "      <td>pluralsight</td>\n",
       "    </tr>\n",
       "    <tr>\n",
       "      <th>4906</th>\n",
       "      <td>177</td>\n",
       "      <td>Windows Server 2012 R2 (70-413) Server Deployment</td>\n",
       "      <td>https://www.pluralsight.com/courses/windows-se...</td>\n",
       "      <td>COURSE</td>\n",
       "      <td>Intermediate</td>\n",
       "      <td>pluralsight</td>\n",
       "      <td>pluralsight</td>\n",
       "    </tr>\n",
       "    <tr>\n",
       "      <th>4907</th>\n",
       "      <td>178</td>\n",
       "      <td>Windows Server Administration Fundamentals Usi...</td>\n",
       "      <td>https://www.pluralsight.com/courses/windows-se...</td>\n",
       "      <td>COURSE</td>\n",
       "      <td>Beginner</td>\n",
       "      <td>pluralsight</td>\n",
       "      <td>pluralsight</td>\n",
       "    </tr>\n",
       "    <tr>\n",
       "      <th>4908</th>\n",
       "      <td>179</td>\n",
       "      <td>Working With Temporal Data in SQL Server</td>\n",
       "      <td>https://www.pluralsight.com/courses/working-wi...</td>\n",
       "      <td>COURSE</td>\n",
       "      <td>Intermediate</td>\n",
       "      <td>pluralsight</td>\n",
       "      <td>pluralsight</td>\n",
       "    </tr>\n",
       "  </tbody>\n",
       "</table>\n",
       "<p>4909 rows × 7 columns</p>\n",
       "</div>"
      ],
      "text/plain": [
       "      index                                       course_title  \\\n",
       "0         0                 Ultimate Investment Banking Course   \n",
       "1         1  Complete GST Course & Certification - Grow You...   \n",
       "2         2  Financial Modeling for Business Analysts and C...   \n",
       "3         3  Beginner to Pro - Financial Analysis in Excel ...   \n",
       "4         4       How To Maximize Your Profits Trading Options   \n",
       "...     ...                                                ...   \n",
       "4904    175        Windows Performance Monitoring Fundamentals   \n",
       "4905    176         Windows PowerShell Toolmaking Fundamentals   \n",
       "4906    177  Windows Server 2012 R2 (70-413) Server Deployment   \n",
       "4907    178  Windows Server Administration Fundamentals Usi...   \n",
       "4908    179           Working With Temporal Data in SQL Server   \n",
       "\n",
       "                                                    url certification  \\\n",
       "0     https://www.udemy.com/ultimate-investment-bank...        COURSE   \n",
       "1         https://www.udemy.com/goods-and-services-tax/        COURSE   \n",
       "2     https://www.udemy.com/financial-modeling-for-b...        COURSE   \n",
       "3     https://www.udemy.com/complete-excel-finance-c...        COURSE   \n",
       "4     https://www.udemy.com/how-to-maximize-your-pro...        COURSE   \n",
       "...                                                 ...           ...   \n",
       "4904  https://www.pluralsight.com/courses/windows-pe...        COURSE   \n",
       "4905  https://www.pluralsight.com/courses/powershell...        COURSE   \n",
       "4906  https://www.pluralsight.com/courses/windows-se...        COURSE   \n",
       "4907  https://www.pluralsight.com/courses/windows-se...        COURSE   \n",
       "4908  https://www.pluralsight.com/courses/working-wi...        COURSE   \n",
       "\n",
       "                   level      organization     platform  \n",
       "0             All Levels  Business Finance        udemy  \n",
       "1             All Levels  Business Finance        udemy  \n",
       "2     Intermediate Level  Business Finance        udemy  \n",
       "3             All Levels  Business Finance        udemy  \n",
       "4     Intermediate Level  Business Finance        udemy  \n",
       "...                  ...               ...          ...  \n",
       "4904            Beginner       pluralsight  pluralsight  \n",
       "4905        Intermediate       pluralsight  pluralsight  \n",
       "4906        Intermediate       pluralsight  pluralsight  \n",
       "4907            Beginner       pluralsight  pluralsight  \n",
       "4908        Intermediate       pluralsight  pluralsight  \n",
       "\n",
       "[4909 rows x 7 columns]"
      ]
     },
     "execution_count": 17,
     "metadata": {},
     "output_type": "execute_result"
    }
   ],
   "source": [
    "courses"
   ]
  },
  {
   "cell_type": "code",
   "execution_count": 18,
   "id": "55ddc3df",
   "metadata": {},
   "outputs": [
    {
     "name": "stdout",
     "output_type": "stream",
     "text": [
      "<class 'pandas.core.frame.DataFrame'>\n",
      "RangeIndex: 4909 entries, 0 to 4908\n",
      "Data columns (total 7 columns):\n",
      " #   Column         Non-Null Count  Dtype \n",
      "---  ------         --------------  ----- \n",
      " 0   index          4909 non-null   int64 \n",
      " 1   course_title   4909 non-null   object\n",
      " 2   url            4909 non-null   object\n",
      " 3   certification  4909 non-null   object\n",
      " 4   level          4909 non-null   object\n",
      " 5   organization   4909 non-null   object\n",
      " 6   platform       4909 non-null   object\n",
      "dtypes: int64(1), object(6)\n",
      "memory usage: 268.6+ KB\n"
     ]
    }
   ],
   "source": [
    "courses.info()\n"
   ]
  },
  {
   "cell_type": "code",
   "execution_count": 19,
   "id": "7dc40fba",
   "metadata": {},
   "outputs": [
    {
     "data": {
      "text/plain": [
       "Index(['index', 'course_title', 'url', 'certification', 'level',\n",
       "       'organization', 'platform'],\n",
       "      dtype='object')"
      ]
     },
     "execution_count": 19,
     "metadata": {},
     "output_type": "execute_result"
    }
   ],
   "source": [
    "courses.columns"
   ]
  },
  {
   "cell_type": "code",
   "execution_count": 20,
   "id": "dd9d1dab",
   "metadata": {},
   "outputs": [
    {
     "ename": "NameError",
     "evalue": "name 'df' is not defined",
     "output_type": "error",
     "traceback": [
      "\u001b[1;31m---------------------------------------------------------------------------\u001b[0m",
      "\u001b[1;31mNameError\u001b[0m                                 Traceback (most recent call last)",
      "\u001b[1;32m~\\AppData\\Local\\Temp\\ipykernel_21488\\1849604344.py\u001b[0m in \u001b[0;36m<module>\u001b[1;34m\u001b[0m\n\u001b[1;32m----> 1\u001b[1;33m \u001b[0mdf\u001b[0m\u001b[1;33m.\u001b[0m\u001b[0mrename\u001b[0m\u001b[1;33m(\u001b[0m\u001b[0mcolumns\u001b[0m\u001b[1;33m=\u001b[0m\u001b[1;33m{\u001b[0m\u001b[1;34m'course_title'\u001b[0m\u001b[1;33m:\u001b[0m \u001b[1;34m'courseName'\u001b[0m\u001b[1;33m,\u001b[0m \u001b[1;34m'level'\u001b[0m\u001b[1;33m:\u001b[0m \u001b[1;34m'courseLevel'\u001b[0m\u001b[1;33m}\u001b[0m\u001b[1;33m,\u001b[0m \u001b[0minplace\u001b[0m\u001b[1;33m=\u001b[0m\u001b[1;32mTrue\u001b[0m\u001b[1;33m)\u001b[0m\u001b[1;33m\u001b[0m\u001b[1;33m\u001b[0m\u001b[0m\n\u001b[0m",
      "\u001b[1;31mNameError\u001b[0m: name 'df' is not defined"
     ]
    }
   ],
   "source": [
    "df.rename(columns={'course_title': 'courseName', 'level': 'courseLevel'}, inplace=True)"
   ]
  },
  {
   "cell_type": "code",
   "execution_count": 21,
   "id": "b9f4d8f4",
   "metadata": {},
   "outputs": [],
   "source": [
    "courses = courses[['index', 'course_title','certification', 'level','organization']]"
   ]
  },
  {
   "cell_type": "code",
   "execution_count": 22,
   "id": "f658d428",
   "metadata": {},
   "outputs": [
    {
     "data": {
      "text/html": [
       "<div>\n",
       "<style scoped>\n",
       "    .dataframe tbody tr th:only-of-type {\n",
       "        vertical-align: middle;\n",
       "    }\n",
       "\n",
       "    .dataframe tbody tr th {\n",
       "        vertical-align: top;\n",
       "    }\n",
       "\n",
       "    .dataframe thead th {\n",
       "        text-align: right;\n",
       "    }\n",
       "</style>\n",
       "<table border=\"1\" class=\"dataframe\">\n",
       "  <thead>\n",
       "    <tr style=\"text-align: right;\">\n",
       "      <th></th>\n",
       "      <th>index</th>\n",
       "      <th>course_title</th>\n",
       "      <th>certification</th>\n",
       "      <th>level</th>\n",
       "      <th>organization</th>\n",
       "    </tr>\n",
       "  </thead>\n",
       "  <tbody>\n",
       "    <tr>\n",
       "      <th>0</th>\n",
       "      <td>0</td>\n",
       "      <td>Ultimate Investment Banking Course</td>\n",
       "      <td>COURSE</td>\n",
       "      <td>All Levels</td>\n",
       "      <td>Business Finance</td>\n",
       "    </tr>\n",
       "    <tr>\n",
       "      <th>1</th>\n",
       "      <td>1</td>\n",
       "      <td>Complete GST Course &amp; Certification - Grow You...</td>\n",
       "      <td>COURSE</td>\n",
       "      <td>All Levels</td>\n",
       "      <td>Business Finance</td>\n",
       "    </tr>\n",
       "    <tr>\n",
       "      <th>2</th>\n",
       "      <td>2</td>\n",
       "      <td>Financial Modeling for Business Analysts and C...</td>\n",
       "      <td>COURSE</td>\n",
       "      <td>Intermediate Level</td>\n",
       "      <td>Business Finance</td>\n",
       "    </tr>\n",
       "    <tr>\n",
       "      <th>3</th>\n",
       "      <td>3</td>\n",
       "      <td>Beginner to Pro - Financial Analysis in Excel ...</td>\n",
       "      <td>COURSE</td>\n",
       "      <td>All Levels</td>\n",
       "      <td>Business Finance</td>\n",
       "    </tr>\n",
       "    <tr>\n",
       "      <th>4</th>\n",
       "      <td>4</td>\n",
       "      <td>How To Maximize Your Profits Trading Options</td>\n",
       "      <td>COURSE</td>\n",
       "      <td>Intermediate Level</td>\n",
       "      <td>Business Finance</td>\n",
       "    </tr>\n",
       "    <tr>\n",
       "      <th>...</th>\n",
       "      <td>...</td>\n",
       "      <td>...</td>\n",
       "      <td>...</td>\n",
       "      <td>...</td>\n",
       "      <td>...</td>\n",
       "    </tr>\n",
       "    <tr>\n",
       "      <th>4904</th>\n",
       "      <td>175</td>\n",
       "      <td>Windows Performance Monitoring Fundamentals</td>\n",
       "      <td>COURSE</td>\n",
       "      <td>Beginner</td>\n",
       "      <td>pluralsight</td>\n",
       "    </tr>\n",
       "    <tr>\n",
       "      <th>4905</th>\n",
       "      <td>176</td>\n",
       "      <td>Windows PowerShell Toolmaking Fundamentals</td>\n",
       "      <td>COURSE</td>\n",
       "      <td>Intermediate</td>\n",
       "      <td>pluralsight</td>\n",
       "    </tr>\n",
       "    <tr>\n",
       "      <th>4906</th>\n",
       "      <td>177</td>\n",
       "      <td>Windows Server 2012 R2 (70-413) Server Deployment</td>\n",
       "      <td>COURSE</td>\n",
       "      <td>Intermediate</td>\n",
       "      <td>pluralsight</td>\n",
       "    </tr>\n",
       "    <tr>\n",
       "      <th>4907</th>\n",
       "      <td>178</td>\n",
       "      <td>Windows Server Administration Fundamentals Usi...</td>\n",
       "      <td>COURSE</td>\n",
       "      <td>Beginner</td>\n",
       "      <td>pluralsight</td>\n",
       "    </tr>\n",
       "    <tr>\n",
       "      <th>4908</th>\n",
       "      <td>179</td>\n",
       "      <td>Working With Temporal Data in SQL Server</td>\n",
       "      <td>COURSE</td>\n",
       "      <td>Intermediate</td>\n",
       "      <td>pluralsight</td>\n",
       "    </tr>\n",
       "  </tbody>\n",
       "</table>\n",
       "<p>4909 rows × 5 columns</p>\n",
       "</div>"
      ],
      "text/plain": [
       "      index                                       course_title certification  \\\n",
       "0         0                 Ultimate Investment Banking Course        COURSE   \n",
       "1         1  Complete GST Course & Certification - Grow You...        COURSE   \n",
       "2         2  Financial Modeling for Business Analysts and C...        COURSE   \n",
       "3         3  Beginner to Pro - Financial Analysis in Excel ...        COURSE   \n",
       "4         4       How To Maximize Your Profits Trading Options        COURSE   \n",
       "...     ...                                                ...           ...   \n",
       "4904    175        Windows Performance Monitoring Fundamentals        COURSE   \n",
       "4905    176         Windows PowerShell Toolmaking Fundamentals        COURSE   \n",
       "4906    177  Windows Server 2012 R2 (70-413) Server Deployment        COURSE   \n",
       "4907    178  Windows Server Administration Fundamentals Usi...        COURSE   \n",
       "4908    179           Working With Temporal Data in SQL Server        COURSE   \n",
       "\n",
       "                   level      organization  \n",
       "0             All Levels  Business Finance  \n",
       "1             All Levels  Business Finance  \n",
       "2     Intermediate Level  Business Finance  \n",
       "3             All Levels  Business Finance  \n",
       "4     Intermediate Level  Business Finance  \n",
       "...                  ...               ...  \n",
       "4904            Beginner       pluralsight  \n",
       "4905        Intermediate       pluralsight  \n",
       "4906        Intermediate       pluralsight  \n",
       "4907            Beginner       pluralsight  \n",
       "4908        Intermediate       pluralsight  \n",
       "\n",
       "[4909 rows x 5 columns]"
      ]
     },
     "execution_count": 22,
     "metadata": {},
     "output_type": "execute_result"
    }
   ],
   "source": [
    "courses"
   ]
  },
  {
   "cell_type": "code",
   "execution_count": 23,
   "id": "58c480ae",
   "metadata": {},
   "outputs": [
    {
     "name": "stderr",
     "output_type": "stream",
     "text": [
      "C:\\Users\\manou\\AppData\\Local\\Temp\\ipykernel_21488\\1990916541.py:1: SettingWithCopyWarning: \n",
      "A value is trying to be set on a copy of a slice from a DataFrame.\n",
      "Try using .loc[row_indexer,col_indexer] = value instead\n",
      "\n",
      "See the caveats in the documentation: https://pandas.pydata.org/pandas-docs/stable/user_guide/indexing.html#returning-a-view-versus-a-copy\n",
      "  courses['tags'] = courses['organization'] + courses['level']\n"
     ]
    }
   ],
   "source": [
    "courses['tags'] = courses['organization'] + courses['level']"
   ]
  },
  {
   "cell_type": "code",
   "execution_count": 24,
   "id": "0ea9b05b",
   "metadata": {},
   "outputs": [
    {
     "data": {
      "text/html": [
       "<div>\n",
       "<style scoped>\n",
       "    .dataframe tbody tr th:only-of-type {\n",
       "        vertical-align: middle;\n",
       "    }\n",
       "\n",
       "    .dataframe tbody tr th {\n",
       "        vertical-align: top;\n",
       "    }\n",
       "\n",
       "    .dataframe thead th {\n",
       "        text-align: right;\n",
       "    }\n",
       "</style>\n",
       "<table border=\"1\" class=\"dataframe\">\n",
       "  <thead>\n",
       "    <tr style=\"text-align: right;\">\n",
       "      <th></th>\n",
       "      <th>index</th>\n",
       "      <th>course_title</th>\n",
       "      <th>certification</th>\n",
       "      <th>level</th>\n",
       "      <th>organization</th>\n",
       "      <th>tags</th>\n",
       "    </tr>\n",
       "  </thead>\n",
       "  <tbody>\n",
       "    <tr>\n",
       "      <th>0</th>\n",
       "      <td>0</td>\n",
       "      <td>Ultimate Investment Banking Course</td>\n",
       "      <td>COURSE</td>\n",
       "      <td>All Levels</td>\n",
       "      <td>Business Finance</td>\n",
       "      <td>Business FinanceAll Levels</td>\n",
       "    </tr>\n",
       "    <tr>\n",
       "      <th>1</th>\n",
       "      <td>1</td>\n",
       "      <td>Complete GST Course &amp; Certification - Grow You...</td>\n",
       "      <td>COURSE</td>\n",
       "      <td>All Levels</td>\n",
       "      <td>Business Finance</td>\n",
       "      <td>Business FinanceAll Levels</td>\n",
       "    </tr>\n",
       "    <tr>\n",
       "      <th>2</th>\n",
       "      <td>2</td>\n",
       "      <td>Financial Modeling for Business Analysts and C...</td>\n",
       "      <td>COURSE</td>\n",
       "      <td>Intermediate Level</td>\n",
       "      <td>Business Finance</td>\n",
       "      <td>Business FinanceIntermediate Level</td>\n",
       "    </tr>\n",
       "    <tr>\n",
       "      <th>3</th>\n",
       "      <td>3</td>\n",
       "      <td>Beginner to Pro - Financial Analysis in Excel ...</td>\n",
       "      <td>COURSE</td>\n",
       "      <td>All Levels</td>\n",
       "      <td>Business Finance</td>\n",
       "      <td>Business FinanceAll Levels</td>\n",
       "    </tr>\n",
       "    <tr>\n",
       "      <th>4</th>\n",
       "      <td>4</td>\n",
       "      <td>How To Maximize Your Profits Trading Options</td>\n",
       "      <td>COURSE</td>\n",
       "      <td>Intermediate Level</td>\n",
       "      <td>Business Finance</td>\n",
       "      <td>Business FinanceIntermediate Level</td>\n",
       "    </tr>\n",
       "    <tr>\n",
       "      <th>...</th>\n",
       "      <td>...</td>\n",
       "      <td>...</td>\n",
       "      <td>...</td>\n",
       "      <td>...</td>\n",
       "      <td>...</td>\n",
       "      <td>...</td>\n",
       "    </tr>\n",
       "    <tr>\n",
       "      <th>4904</th>\n",
       "      <td>175</td>\n",
       "      <td>Windows Performance Monitoring Fundamentals</td>\n",
       "      <td>COURSE</td>\n",
       "      <td>Beginner</td>\n",
       "      <td>pluralsight</td>\n",
       "      <td>pluralsightBeginner</td>\n",
       "    </tr>\n",
       "    <tr>\n",
       "      <th>4905</th>\n",
       "      <td>176</td>\n",
       "      <td>Windows PowerShell Toolmaking Fundamentals</td>\n",
       "      <td>COURSE</td>\n",
       "      <td>Intermediate</td>\n",
       "      <td>pluralsight</td>\n",
       "      <td>pluralsightIntermediate</td>\n",
       "    </tr>\n",
       "    <tr>\n",
       "      <th>4906</th>\n",
       "      <td>177</td>\n",
       "      <td>Windows Server 2012 R2 (70-413) Server Deployment</td>\n",
       "      <td>COURSE</td>\n",
       "      <td>Intermediate</td>\n",
       "      <td>pluralsight</td>\n",
       "      <td>pluralsightIntermediate</td>\n",
       "    </tr>\n",
       "    <tr>\n",
       "      <th>4907</th>\n",
       "      <td>178</td>\n",
       "      <td>Windows Server Administration Fundamentals Usi...</td>\n",
       "      <td>COURSE</td>\n",
       "      <td>Beginner</td>\n",
       "      <td>pluralsight</td>\n",
       "      <td>pluralsightBeginner</td>\n",
       "    </tr>\n",
       "    <tr>\n",
       "      <th>4908</th>\n",
       "      <td>179</td>\n",
       "      <td>Working With Temporal Data in SQL Server</td>\n",
       "      <td>COURSE</td>\n",
       "      <td>Intermediate</td>\n",
       "      <td>pluralsight</td>\n",
       "      <td>pluralsightIntermediate</td>\n",
       "    </tr>\n",
       "  </tbody>\n",
       "</table>\n",
       "<p>4909 rows × 6 columns</p>\n",
       "</div>"
      ],
      "text/plain": [
       "      index                                       course_title certification  \\\n",
       "0         0                 Ultimate Investment Banking Course        COURSE   \n",
       "1         1  Complete GST Course & Certification - Grow You...        COURSE   \n",
       "2         2  Financial Modeling for Business Analysts and C...        COURSE   \n",
       "3         3  Beginner to Pro - Financial Analysis in Excel ...        COURSE   \n",
       "4         4       How To Maximize Your Profits Trading Options        COURSE   \n",
       "...     ...                                                ...           ...   \n",
       "4904    175        Windows Performance Monitoring Fundamentals        COURSE   \n",
       "4905    176         Windows PowerShell Toolmaking Fundamentals        COURSE   \n",
       "4906    177  Windows Server 2012 R2 (70-413) Server Deployment        COURSE   \n",
       "4907    178  Windows Server Administration Fundamentals Usi...        COURSE   \n",
       "4908    179           Working With Temporal Data in SQL Server        COURSE   \n",
       "\n",
       "                   level      organization                                tags  \n",
       "0             All Levels  Business Finance          Business FinanceAll Levels  \n",
       "1             All Levels  Business Finance          Business FinanceAll Levels  \n",
       "2     Intermediate Level  Business Finance  Business FinanceIntermediate Level  \n",
       "3             All Levels  Business Finance          Business FinanceAll Levels  \n",
       "4     Intermediate Level  Business Finance  Business FinanceIntermediate Level  \n",
       "...                  ...               ...                                 ...  \n",
       "4904            Beginner       pluralsight                 pluralsightBeginner  \n",
       "4905        Intermediate       pluralsight             pluralsightIntermediate  \n",
       "4906        Intermediate       pluralsight             pluralsightIntermediate  \n",
       "4907            Beginner       pluralsight                 pluralsightBeginner  \n",
       "4908        Intermediate       pluralsight             pluralsightIntermediate  \n",
       "\n",
       "[4909 rows x 6 columns]"
      ]
     },
     "execution_count": 24,
     "metadata": {},
     "output_type": "execute_result"
    }
   ],
   "source": [
    "courses"
   ]
  },
  {
   "cell_type": "code",
   "execution_count": 25,
   "id": "4928999a",
   "metadata": {},
   "outputs": [],
   "source": [
    "new_data = courses.drop(columns=['level','organization'])"
   ]
  },
  {
   "cell_type": "code",
   "execution_count": 26,
   "id": "73b09f39",
   "metadata": {},
   "outputs": [
    {
     "data": {
      "text/html": [
       "<div>\n",
       "<style scoped>\n",
       "    .dataframe tbody tr th:only-of-type {\n",
       "        vertical-align: middle;\n",
       "    }\n",
       "\n",
       "    .dataframe tbody tr th {\n",
       "        vertical-align: top;\n",
       "    }\n",
       "\n",
       "    .dataframe thead th {\n",
       "        text-align: right;\n",
       "    }\n",
       "</style>\n",
       "<table border=\"1\" class=\"dataframe\">\n",
       "  <thead>\n",
       "    <tr style=\"text-align: right;\">\n",
       "      <th></th>\n",
       "      <th>index</th>\n",
       "      <th>course_title</th>\n",
       "      <th>certification</th>\n",
       "      <th>tags</th>\n",
       "    </tr>\n",
       "  </thead>\n",
       "  <tbody>\n",
       "    <tr>\n",
       "      <th>0</th>\n",
       "      <td>0</td>\n",
       "      <td>Ultimate Investment Banking Course</td>\n",
       "      <td>COURSE</td>\n",
       "      <td>Business FinanceAll Levels</td>\n",
       "    </tr>\n",
       "    <tr>\n",
       "      <th>1</th>\n",
       "      <td>1</td>\n",
       "      <td>Complete GST Course &amp; Certification - Grow You...</td>\n",
       "      <td>COURSE</td>\n",
       "      <td>Business FinanceAll Levels</td>\n",
       "    </tr>\n",
       "    <tr>\n",
       "      <th>2</th>\n",
       "      <td>2</td>\n",
       "      <td>Financial Modeling for Business Analysts and C...</td>\n",
       "      <td>COURSE</td>\n",
       "      <td>Business FinanceIntermediate Level</td>\n",
       "    </tr>\n",
       "    <tr>\n",
       "      <th>3</th>\n",
       "      <td>3</td>\n",
       "      <td>Beginner to Pro - Financial Analysis in Excel ...</td>\n",
       "      <td>COURSE</td>\n",
       "      <td>Business FinanceAll Levels</td>\n",
       "    </tr>\n",
       "    <tr>\n",
       "      <th>4</th>\n",
       "      <td>4</td>\n",
       "      <td>How To Maximize Your Profits Trading Options</td>\n",
       "      <td>COURSE</td>\n",
       "      <td>Business FinanceIntermediate Level</td>\n",
       "    </tr>\n",
       "    <tr>\n",
       "      <th>...</th>\n",
       "      <td>...</td>\n",
       "      <td>...</td>\n",
       "      <td>...</td>\n",
       "      <td>...</td>\n",
       "    </tr>\n",
       "    <tr>\n",
       "      <th>4904</th>\n",
       "      <td>175</td>\n",
       "      <td>Windows Performance Monitoring Fundamentals</td>\n",
       "      <td>COURSE</td>\n",
       "      <td>pluralsightBeginner</td>\n",
       "    </tr>\n",
       "    <tr>\n",
       "      <th>4905</th>\n",
       "      <td>176</td>\n",
       "      <td>Windows PowerShell Toolmaking Fundamentals</td>\n",
       "      <td>COURSE</td>\n",
       "      <td>pluralsightIntermediate</td>\n",
       "    </tr>\n",
       "    <tr>\n",
       "      <th>4906</th>\n",
       "      <td>177</td>\n",
       "      <td>Windows Server 2012 R2 (70-413) Server Deployment</td>\n",
       "      <td>COURSE</td>\n",
       "      <td>pluralsightIntermediate</td>\n",
       "    </tr>\n",
       "    <tr>\n",
       "      <th>4907</th>\n",
       "      <td>178</td>\n",
       "      <td>Windows Server Administration Fundamentals Usi...</td>\n",
       "      <td>COURSE</td>\n",
       "      <td>pluralsightBeginner</td>\n",
       "    </tr>\n",
       "    <tr>\n",
       "      <th>4908</th>\n",
       "      <td>179</td>\n",
       "      <td>Working With Temporal Data in SQL Server</td>\n",
       "      <td>COURSE</td>\n",
       "      <td>pluralsightIntermediate</td>\n",
       "    </tr>\n",
       "  </tbody>\n",
       "</table>\n",
       "<p>4909 rows × 4 columns</p>\n",
       "</div>"
      ],
      "text/plain": [
       "      index                                       course_title certification  \\\n",
       "0         0                 Ultimate Investment Banking Course        COURSE   \n",
       "1         1  Complete GST Course & Certification - Grow You...        COURSE   \n",
       "2         2  Financial Modeling for Business Analysts and C...        COURSE   \n",
       "3         3  Beginner to Pro - Financial Analysis in Excel ...        COURSE   \n",
       "4         4       How To Maximize Your Profits Trading Options        COURSE   \n",
       "...     ...                                                ...           ...   \n",
       "4904    175        Windows Performance Monitoring Fundamentals        COURSE   \n",
       "4905    176         Windows PowerShell Toolmaking Fundamentals        COURSE   \n",
       "4906    177  Windows Server 2012 R2 (70-413) Server Deployment        COURSE   \n",
       "4907    178  Windows Server Administration Fundamentals Usi...        COURSE   \n",
       "4908    179           Working With Temporal Data in SQL Server        COURSE   \n",
       "\n",
       "                                    tags  \n",
       "0             Business FinanceAll Levels  \n",
       "1             Business FinanceAll Levels  \n",
       "2     Business FinanceIntermediate Level  \n",
       "3             Business FinanceAll Levels  \n",
       "4     Business FinanceIntermediate Level  \n",
       "...                                  ...  \n",
       "4904                 pluralsightBeginner  \n",
       "4905             pluralsightIntermediate  \n",
       "4906             pluralsightIntermediate  \n",
       "4907                 pluralsightBeginner  \n",
       "4908             pluralsightIntermediate  \n",
       "\n",
       "[4909 rows x 4 columns]"
      ]
     },
     "execution_count": 26,
     "metadata": {},
     "output_type": "execute_result"
    }
   ],
   "source": [
    "new_data"
   ]
  },
  {
   "cell_type": "markdown",
   "id": "d03ea608",
   "metadata": {},
   "source": [
    "# 1ST algo Content-Based Filtering"
   ]
  },
  {
   "cell_type": "code",
   "execution_count": 27,
   "id": "534e9e79",
   "metadata": {},
   "outputs": [],
   "source": [
    "from sklearn.feature_extraction.text import CountVectorizer"
   ]
  },
  {
   "cell_type": "code",
   "execution_count": 28,
   "id": "27041c39",
   "metadata": {},
   "outputs": [
    {
     "data": {
      "text/plain": [
       "CountVectorizer(max_features=5000, stop_words='english')"
      ]
     },
     "execution_count": 28,
     "metadata": {},
     "output_type": "execute_result"
    }
   ],
   "source": [
    "CountVectorizer(max_features=5000 , stop_words='english')"
   ]
  },
  {
   "cell_type": "code",
   "execution_count": 29,
   "id": "5d3bb39f",
   "metadata": {},
   "outputs": [],
   "source": [
    "cv = CountVectorizer(max_features=5000 , stop_words='english')"
   ]
  },
  {
   "cell_type": "code",
   "execution_count": 30,
   "id": "2976e5d1",
   "metadata": {},
   "outputs": [
    {
     "data": {
      "text/plain": [
       "CountVectorizer(max_features=5000, stop_words='english')"
      ]
     },
     "execution_count": 30,
     "metadata": {},
     "output_type": "execute_result"
    }
   ],
   "source": [
    "cv"
   ]
  },
  {
   "cell_type": "code",
   "execution_count": 31,
   "id": "ef8b5262",
   "metadata": {},
   "outputs": [],
   "source": [
    "vector=cv.fit_transform(new_data['tags'].values.astype('U')).toarray()"
   ]
  },
  {
   "cell_type": "code",
   "execution_count": 32,
   "id": "f1306bb0",
   "metadata": {},
   "outputs": [
    {
     "data": {
      "text/plain": [
       "(4909, 382)"
      ]
     },
     "execution_count": 32,
     "metadata": {},
     "output_type": "execute_result"
    }
   ],
   "source": [
    "vector.shape"
   ]
  },
  {
   "cell_type": "code",
   "execution_count": 33,
   "id": "de97220b",
   "metadata": {},
   "outputs": [],
   "source": [
    "from sklearn.metrics.pairwise import cosine_similarity"
   ]
  },
  {
   "cell_type": "code",
   "execution_count": 34,
   "id": "eec70084",
   "metadata": {},
   "outputs": [],
   "source": [
    "similarity = cosine_similarity(vector)"
   ]
  },
  {
   "cell_type": "code",
   "execution_count": 35,
   "id": "faeb58f0",
   "metadata": {},
   "outputs": [
    {
     "data": {
      "text/plain": [
       "array([[1.        , 1.        , 0.33333333, ..., 0.        , 0.        ,\n",
       "        0.        ],\n",
       "       [1.        , 1.        , 0.33333333, ..., 0.        , 0.        ,\n",
       "        0.        ],\n",
       "       [0.33333333, 0.33333333, 1.        , ..., 0.        , 0.        ,\n",
       "        0.        ],\n",
       "       ...,\n",
       "       [0.        , 0.        , 0.        , ..., 1.        , 0.        ,\n",
       "        1.        ],\n",
       "       [0.        , 0.        , 0.        , ..., 0.        , 1.        ,\n",
       "        0.        ],\n",
       "       [0.        , 0.        , 0.        , ..., 1.        , 0.        ,\n",
       "        1.        ]])"
      ]
     },
     "execution_count": 35,
     "metadata": {},
     "output_type": "execute_result"
    }
   ],
   "source": [
    "similarity"
   ]
  },
  {
   "cell_type": "code",
   "execution_count": 36,
   "id": "d4326880",
   "metadata": {},
   "outputs": [
    {
     "data": {
      "text/html": [
       "<div>\n",
       "<style scoped>\n",
       "    .dataframe tbody tr th:only-of-type {\n",
       "        vertical-align: middle;\n",
       "    }\n",
       "\n",
       "    .dataframe tbody tr th {\n",
       "        vertical-align: top;\n",
       "    }\n",
       "\n",
       "    .dataframe thead th {\n",
       "        text-align: right;\n",
       "    }\n",
       "</style>\n",
       "<table border=\"1\" class=\"dataframe\">\n",
       "  <thead>\n",
       "    <tr style=\"text-align: right;\">\n",
       "      <th></th>\n",
       "      <th>index</th>\n",
       "      <th>course_title</th>\n",
       "      <th>certification</th>\n",
       "      <th>tags</th>\n",
       "    </tr>\n",
       "  </thead>\n",
       "  <tbody>\n",
       "    <tr>\n",
       "      <th>134</th>\n",
       "      <td>134</td>\n",
       "      <td>Basic Bookkeeping Hacks</td>\n",
       "      <td>COURSE</td>\n",
       "      <td>Business FinanceAll Levels</td>\n",
       "    </tr>\n",
       "  </tbody>\n",
       "</table>\n",
       "</div>"
      ],
      "text/plain": [
       "     index             course_title certification                        tags\n",
       "134    134  Basic Bookkeeping Hacks        COURSE  Business FinanceAll Levels"
      ]
     },
     "execution_count": 36,
     "metadata": {},
     "output_type": "execute_result"
    }
   ],
   "source": [
    "new_data[new_data['course_title']==\"Basic Bookkeeping Hacks\"]"
   ]
  },
  {
   "cell_type": "code",
   "execution_count": 37,
   "id": "c0552273",
   "metadata": {},
   "outputs": [
    {
     "name": "stdout",
     "output_type": "stream",
     "text": [
      "<class 'pandas.core.frame.DataFrame'>\n",
      "RangeIndex: 4909 entries, 0 to 4908\n",
      "Data columns (total 4 columns):\n",
      " #   Column         Non-Null Count  Dtype \n",
      "---  ------         --------------  ----- \n",
      " 0   index          4909 non-null   int64 \n",
      " 1   course_title   4909 non-null   object\n",
      " 2   certification  4909 non-null   object\n",
      " 3   tags           4909 non-null   object\n",
      "dtypes: int64(1), object(3)\n",
      "memory usage: 153.5+ KB\n"
     ]
    }
   ],
   "source": [
    "new_data.info()"
   ]
  },
  {
   "cell_type": "code",
   "execution_count": 38,
   "id": "595cc204",
   "metadata": {},
   "outputs": [
    {
     "data": {
      "text/plain": [
       "134"
      ]
     },
     "execution_count": 38,
     "metadata": {},
     "output_type": "execute_result"
    }
   ],
   "source": [
    "new_data[new_data['course_title']==\"Basic Bookkeeping Hacks\"].index[0]"
   ]
  },
  {
   "cell_type": "code",
   "execution_count": 39,
   "id": "c270dcaa",
   "metadata": {},
   "outputs": [
    {
     "name": "stdout",
     "output_type": "stream",
     "text": [
      "Ultimate Investment Banking Course\n",
      "Complete GST Course & Certification - Grow Your CA Practice\n",
      "Beginner to Pro - Financial Analysis in Excel 2017\n",
      "Trading Penny Stocks: A Guide for All Levels In 2017\n",
      "Trading Stock Chart Patterns For Immediate, Explosive Gains\n"
     ]
    }
   ],
   "source": [
    "distance = sorted(list(enumerate(similarity[134])), reverse=True,key=lambda vector:vector[1])\n",
    "for i in distance[0:5] :\n",
    "    print(new_data.iloc[i[0]].course_title)\n",
    "    "
   ]
  },
  {
   "cell_type": "code",
   "execution_count": 40,
   "id": "72605e8b",
   "metadata": {},
   "outputs": [],
   "source": [
    "def recommand(courses): \n",
    "    index=new_data[new_data['course_title']==courses].index[0]\n",
    "    distance = sorted(list(enumerate(similarity[index])), reverse=True,key=lambda vector:vector[1])\n",
    "    for i in distance[0:5] :\n",
    "        print(new_data.iloc[i[0]].course_title)\n",
    "    "
   ]
  },
  {
   "cell_type": "code",
   "execution_count": 41,
   "id": "6e1b6707",
   "metadata": {},
   "outputs": [
    {
     "name": "stdout",
     "output_type": "stream",
     "text": [
      "Ultimate Investment Banking Course\n",
      "Complete GST Course & Certification - Grow Your CA Practice\n",
      "Beginner to Pro - Financial Analysis in Excel 2017\n",
      "Trading Penny Stocks: A Guide for All Levels In 2017\n",
      "Trading Stock Chart Patterns For Immediate, Explosive Gains\n"
     ]
    }
   ],
   "source": [
    "recommand(\"Basic Bookkeeping Hacks\")"
   ]
  },
  {
   "cell_type": "code",
   "execution_count": 42,
   "id": "41be196b",
   "metadata": {},
   "outputs": [],
   "source": [
    "import pickle "
   ]
  },
  {
   "cell_type": "code",
   "execution_count": 43,
   "id": "8ea976aa",
   "metadata": {},
   "outputs": [],
   "source": [
    "pickle.dump(new_data,open('courses_list.pkl','wb'))"
   ]
  },
  {
   "cell_type": "code",
   "execution_count": 44,
   "id": "7f3d89d5",
   "metadata": {},
   "outputs": [],
   "source": [
    "pickle.dump(similarity,open('similarity.pkl','wb'))"
   ]
  },
  {
   "cell_type": "code",
   "execution_count": 45,
   "id": "94fd4861",
   "metadata": {},
   "outputs": [
    {
     "data": {
      "text/html": [
       "<div>\n",
       "<style scoped>\n",
       "    .dataframe tbody tr th:only-of-type {\n",
       "        vertical-align: middle;\n",
       "    }\n",
       "\n",
       "    .dataframe tbody tr th {\n",
       "        vertical-align: top;\n",
       "    }\n",
       "\n",
       "    .dataframe thead th {\n",
       "        text-align: right;\n",
       "    }\n",
       "</style>\n",
       "<table border=\"1\" class=\"dataframe\">\n",
       "  <thead>\n",
       "    <tr style=\"text-align: right;\">\n",
       "      <th></th>\n",
       "      <th>index</th>\n",
       "      <th>course_title</th>\n",
       "      <th>certification</th>\n",
       "      <th>tags</th>\n",
       "    </tr>\n",
       "  </thead>\n",
       "  <tbody>\n",
       "    <tr>\n",
       "      <th>0</th>\n",
       "      <td>0</td>\n",
       "      <td>Ultimate Investment Banking Course</td>\n",
       "      <td>COURSE</td>\n",
       "      <td>Business FinanceAll Levels</td>\n",
       "    </tr>\n",
       "    <tr>\n",
       "      <th>1</th>\n",
       "      <td>1</td>\n",
       "      <td>Complete GST Course &amp; Certification - Grow You...</td>\n",
       "      <td>COURSE</td>\n",
       "      <td>Business FinanceAll Levels</td>\n",
       "    </tr>\n",
       "    <tr>\n",
       "      <th>2</th>\n",
       "      <td>2</td>\n",
       "      <td>Financial Modeling for Business Analysts and C...</td>\n",
       "      <td>COURSE</td>\n",
       "      <td>Business FinanceIntermediate Level</td>\n",
       "    </tr>\n",
       "    <tr>\n",
       "      <th>3</th>\n",
       "      <td>3</td>\n",
       "      <td>Beginner to Pro - Financial Analysis in Excel ...</td>\n",
       "      <td>COURSE</td>\n",
       "      <td>Business FinanceAll Levels</td>\n",
       "    </tr>\n",
       "    <tr>\n",
       "      <th>4</th>\n",
       "      <td>4</td>\n",
       "      <td>How To Maximize Your Profits Trading Options</td>\n",
       "      <td>COURSE</td>\n",
       "      <td>Business FinanceIntermediate Level</td>\n",
       "    </tr>\n",
       "    <tr>\n",
       "      <th>...</th>\n",
       "      <td>...</td>\n",
       "      <td>...</td>\n",
       "      <td>...</td>\n",
       "      <td>...</td>\n",
       "    </tr>\n",
       "    <tr>\n",
       "      <th>4904</th>\n",
       "      <td>175</td>\n",
       "      <td>Windows Performance Monitoring Fundamentals</td>\n",
       "      <td>COURSE</td>\n",
       "      <td>pluralsightBeginner</td>\n",
       "    </tr>\n",
       "    <tr>\n",
       "      <th>4905</th>\n",
       "      <td>176</td>\n",
       "      <td>Windows PowerShell Toolmaking Fundamentals</td>\n",
       "      <td>COURSE</td>\n",
       "      <td>pluralsightIntermediate</td>\n",
       "    </tr>\n",
       "    <tr>\n",
       "      <th>4906</th>\n",
       "      <td>177</td>\n",
       "      <td>Windows Server 2012 R2 (70-413) Server Deployment</td>\n",
       "      <td>COURSE</td>\n",
       "      <td>pluralsightIntermediate</td>\n",
       "    </tr>\n",
       "    <tr>\n",
       "      <th>4907</th>\n",
       "      <td>178</td>\n",
       "      <td>Windows Server Administration Fundamentals Usi...</td>\n",
       "      <td>COURSE</td>\n",
       "      <td>pluralsightBeginner</td>\n",
       "    </tr>\n",
       "    <tr>\n",
       "      <th>4908</th>\n",
       "      <td>179</td>\n",
       "      <td>Working With Temporal Data in SQL Server</td>\n",
       "      <td>COURSE</td>\n",
       "      <td>pluralsightIntermediate</td>\n",
       "    </tr>\n",
       "  </tbody>\n",
       "</table>\n",
       "<p>4909 rows × 4 columns</p>\n",
       "</div>"
      ],
      "text/plain": [
       "      index                                       course_title certification  \\\n",
       "0         0                 Ultimate Investment Banking Course        COURSE   \n",
       "1         1  Complete GST Course & Certification - Grow You...        COURSE   \n",
       "2         2  Financial Modeling for Business Analysts and C...        COURSE   \n",
       "3         3  Beginner to Pro - Financial Analysis in Excel ...        COURSE   \n",
       "4         4       How To Maximize Your Profits Trading Options        COURSE   \n",
       "...     ...                                                ...           ...   \n",
       "4904    175        Windows Performance Monitoring Fundamentals        COURSE   \n",
       "4905    176         Windows PowerShell Toolmaking Fundamentals        COURSE   \n",
       "4906    177  Windows Server 2012 R2 (70-413) Server Deployment        COURSE   \n",
       "4907    178  Windows Server Administration Fundamentals Usi...        COURSE   \n",
       "4908    179           Working With Temporal Data in SQL Server        COURSE   \n",
       "\n",
       "                                    tags  \n",
       "0             Business FinanceAll Levels  \n",
       "1             Business FinanceAll Levels  \n",
       "2     Business FinanceIntermediate Level  \n",
       "3             Business FinanceAll Levels  \n",
       "4     Business FinanceIntermediate Level  \n",
       "...                                  ...  \n",
       "4904                 pluralsightBeginner  \n",
       "4905             pluralsightIntermediate  \n",
       "4906             pluralsightIntermediate  \n",
       "4907                 pluralsightBeginner  \n",
       "4908             pluralsightIntermediate  \n",
       "\n",
       "[4909 rows x 4 columns]"
      ]
     },
     "execution_count": 45,
     "metadata": {},
     "output_type": "execute_result"
    }
   ],
   "source": [
    "pickle.load(open('courses_list.pkl','rb'))"
   ]
  },
  {
   "cell_type": "code",
   "execution_count": 46,
   "id": "7076f059",
   "metadata": {},
   "outputs": [
    {
     "name": "stdout",
     "output_type": "stream",
     "text": [
      "Investing And Trading For Beginners: Mastering Price Charts\n",
      "Basic Technical Analysis: Learn the structure of the market\n",
      "Financial Statements Made Easy\n",
      "Introduction to Accounting : Mastering Financial Statements\n",
      "Forex Trading: Your Complete Guide to Get Started Like a Pro\n"
     ]
    }
   ],
   "source": [
    "recommand(\"Introductory Financial Accounting\")"
   ]
  },
  {
   "cell_type": "code",
   "execution_count": 47,
   "id": "fd05922a",
   "metadata": {},
   "outputs": [
    {
     "name": "stdout",
     "output_type": "stream",
     "text": [
      "Programming Foundations: HTML5 + CSS3 for Entrepreneurs 2015\n",
      "How To Make A Wordpress Website 2017 | Divi Theme Tutorial\n",
      "Spring Boot Tutorial For Beginners\n",
      "Learn JavaScript for beginners\n",
      "Introduction to Web Development: HTML\n"
     ]
    }
   ],
   "source": [
    "recommand(\"Learn JavaScript for beginners\")"
   ]
  },
  {
   "cell_type": "code",
   "execution_count": 48,
   "id": "9ccbd89d",
   "metadata": {},
   "outputs": [
    {
     "name": "stdout",
     "output_type": "stream",
     "text": [
      "AWS Networking Deep Dive: Virtual Private Cloud (VPC)\n",
      "Advanced SQL Queries in Oracle and SQL Server\n",
      "Angular Crash Course\n",
      "AngularJS Fundamentals\n",
      "Ansible Fundamentals\n"
     ]
    }
   ],
   "source": [
    "recommand(\"Working With Temporal Data in SQL Server\")"
   ]
  },
  {
   "cell_type": "markdown",
   "id": "601d76ba",
   "metadata": {},
   "source": [
    "# 2ND Algo "
   ]
  },
  {
   "cell_type": "code",
   "execution_count": 49,
   "id": "159e6347",
   "metadata": {},
   "outputs": [],
   "source": [
    "from sklearn.neighbors import NearestNeighbors"
   ]
  },
  {
   "cell_type": "code",
   "execution_count": 83,
   "id": "3cb3d807",
   "metadata": {},
   "outputs": [],
   "source": [
    "import time"
   ]
  },
  {
   "cell_type": "code",
   "execution_count": 84,
   "id": "808820f7",
   "metadata": {},
   "outputs": [],
   "source": [
    "vectorizer2 = CountVectorizer(max_features=5000, stop_words='english')"
   ]
  },
  {
   "cell_type": "code",
   "execution_count": 85,
   "id": "132b82c6",
   "metadata": {},
   "outputs": [],
   "source": [
    "course_vectors2 = vectorizer2.fit_transform(courses['tags'].values.astype('U')).toarray()\n"
   ]
  },
  {
   "cell_type": "code",
   "execution_count": 86,
   "id": "2b16d774",
   "metadata": {},
   "outputs": [],
   "source": [
    "knn = NearestNeighbors(n_neighbors=5, algorithm='auto').fit(course_vectors2)\n"
   ]
  },
  {
   "cell_type": "code",
   "execution_count": 90,
   "id": "c757f815",
   "metadata": {},
   "outputs": [],
   "source": [
    "def recommend(course_title):\n",
    "    start_time = time.time()\n",
    "    course_index = courses[courses['course_title'] == course_title].index[0]\n",
    "    distances, indices = knn.kneighbors([course_vectors2[course_index]])\n",
    "    for idx in indices[0]:\n",
    "        print(courses.iloc[idx].course_title)\n",
    "    end_time = time.time()\n",
    "    print(\"Response Time: {:.2f} seconds\".format(end_time - start_time))\n",
    "    \n"
   ]
  },
  {
   "cell_type": "code",
   "execution_count": 91,
   "id": "9928b3e4",
   "metadata": {},
   "outputs": [
    {
     "name": "stdout",
     "output_type": "stream",
     "text": [
      "A Guide To Trade Binary Options Like An Expert\n",
      "Numbers for the  Business Plan\n",
      "Tax made simple for Limited Company Owners and Contractors\n",
      "How to invest in Forex Trading & add an additional income\n",
      "FX Trading for Beginners\n",
      "Response Time: 0.03 seconds\n"
     ]
    }
   ],
   "source": [
    "recommend(\"Basic Bookkeeping Hacks\")"
   ]
  },
  {
   "cell_type": "code",
   "execution_count": 55,
   "id": "17825655",
   "metadata": {},
   "outputs": [],
   "source": [
    "import matplotlib.pyplot as plt\n",
    "from sklearn.datasets import make_blobs\n",
    "from sklearn.cluster import KMeans\n",
    "from sklearn.neighbors import KNeighborsClassifier\n",
    "from sklearn.decomposition import PCA"
   ]
  },
  {
   "cell_type": "code",
   "execution_count": 56,
   "id": "55001626",
   "metadata": {},
   "outputs": [],
   "source": [
    "X, y = make_blobs(n_samples=300, centers=4, random_state=42)\n"
   ]
  },
  {
   "cell_type": "code",
   "execution_count": 57,
   "id": "53e17e7b",
   "metadata": {},
   "outputs": [
    {
     "data": {
      "text/plain": [
       "KNeighborsClassifier()"
      ]
     },
     "execution_count": 57,
     "metadata": {},
     "output_type": "execute_result"
    }
   ],
   "source": [
    "pca = PCA(n_components=2)\n",
    "X_pca = pca.fit_transform(X)\n",
    "\n",
    "# Fit KMeans to find clusters\n",
    "kmeans = KMeans(n_clusters=4, random_state=42)\n",
    "kmeans.fit(X)\n",
    "labels = kmeans.predict(X)\n",
    "\n",
    "# Fit KNN Classifier\n",
    "knn = KNeighborsClassifier(n_neighbors=5)\n",
    "knn.fit(X, labels)"
   ]
  },
  {
   "cell_type": "code",
   "execution_count": 58,
   "id": "df8e0ff7",
   "metadata": {},
   "outputs": [
    {
     "data": {
      "image/png": "[encoded data removed]",
      "text/plain": [
       "<Figure size 640x480 with 1 Axes>"
      ]
     },
     "metadata": {},
     "output_type": "display_data"
    }
   ],
   "source": [
    "plt.scatter(X_pca[:, 0], X_pca[:, 1], c=labels, cmap='viridis')\n",
    "plt.xlabel('PCA Component 1')\n",
    "plt.ylabel('PCA Component 2')\n",
    "plt.title(' KNN Classification')\n",
    "plt.show()"
   ]
  },
  {
   "cell_type": "markdown",
   "id": "4436b116",
   "metadata": {},
   "source": [
    "# Respons time"
   ]
  },
  {
   "cell_type": "code",
   "execution_count": 92,
   "id": "4e233184",
   "metadata": {},
   "outputs": [],
   "source": [
    "from sklearn.neighbors import NearestNeighbors"
   ]
  },
  {
   "cell_type": "code",
   "execution_count": 93,
   "id": "47e2afa8",
   "metadata": {},
   "outputs": [],
   "source": [
    "import time\n"
   ]
  },
  {
   "cell_type": "code",
   "execution_count": 94,
   "id": "621069d3",
   "metadata": {},
   "outputs": [],
   "source": [
    "vectorizer2 = CountVectorizer(max_features=5000, stop_words='english')\n",
    "course_vectors2 = vectorizer2.fit_transform(courses['tags'].values.astype('U')).toarray()\n",
    "knn = NearestNeighbors(n_neighbors=5, algorithm='auto').fit(course_vectors2)"
   ]
  },
  {
   "cell_type": "code",
   "execution_count": 95,
   "id": "3eea1795",
   "metadata": {},
   "outputs": [],
   "source": [
    "def recommend_with_time(course_title):\n",
    "    start_time = time.time()\n",
    "    course_index = courses[courses['course_title'] == course_title].index[0]\n",
    "    distances, indices = knn.kneighbors([course_vectors2[course_index]])\n",
    "    for idx in indices[0]:\n",
    "        print(courses.iloc[idx].course_title)\n",
    "    end_time = time.time()\n",
    "    print(\"Response Time: {:.2f} seconds\".format(end_time - start_time))\n",
    "    \n"
   ]
  },
  {
   "cell_type": "code",
   "execution_count": 96,
   "id": "5542315b",
   "metadata": {},
   "outputs": [
    {
     "name": "stdout",
     "output_type": "stream",
     "text": [
      "A Guide To Trade Binary Options Like An Expert\n",
      "Numbers for the  Business Plan\n",
      "Tax made simple for Limited Company Owners and Contractors\n",
      "How to invest in Forex Trading & add an additional income\n",
      "FX Trading for Beginners\n",
      "Response Time: 0.01 seconds\n"
     ]
    }
   ],
   "source": [
    "recommend_with_time(\"Basic Bookkeeping Hacks\")"
   ]
  },
  {
   "cell_type": "markdown",
   "id": "55672b0d",
   "metadata": {},
   "source": [
    "# Graph of time"
   ]
  },
  {
   "cell_type": "code",
   "execution_count": 97,
   "id": "8df0583f",
   "metadata": {},
   "outputs": [],
   "source": [
    "import matplotlib.pyplot as plt"
   ]
  },
  {
   "cell_type": "code",
   "execution_count": 98,
   "id": "c5eb5226",
   "metadata": {},
   "outputs": [],
   "source": [
    "def measure_response_times(course_titles, vectorizer, course_vectors):\n",
    "    response_times = []\n",
    "    for title in course_titles:\n",
    "        start_time = time.time()\n",
    "        query_vector = vectorizer.transform([title])  # Transform the course title to the same vector space\n",
    "        distances, indices = knn.kneighbors(query_vector)  # Use the transformed vector for querying\n",
    "        end_time = time.time()\n",
    "        response_times.append(end_time - start_time)\n",
    "    return response_times"
   ]
  },
  {
   "cell_type": "code",
   "execution_count": 99,
   "id": "74df3be0",
   "metadata": {},
   "outputs": [],
   "source": [
    "course_titles = [course for course in courses['course_title'].sample(10)]\n",
    "response_times = measure_response_times(course_titles, vectorizer2, course_vectors2)"
   ]
  },
  {
   "cell_type": "code",
   "execution_count": 100,
   "id": "6d9b5311",
   "metadata": {},
   "outputs": [
    {
     "data": {
      "image/png": "[encoded data removed]",
      "text/plain": [
       "<Figure size 1000x500 with 1 Axes>"
      ]
     },
     "metadata": {},
     "output_type": "display_data"
    }
   ],
   "source": [
    "plt.figure(figsize=(10, 5))\n",
    "plt.bar(course_titles, response_times, color='blue')\n",
    "plt.xlabel('Course Titles')\n",
    "plt.ylabel('Response Time (seconds)')\n",
    "plt.title('Response Time for KNN Algorithm')\n",
    "plt.xticks(rotation=45, ha='right')\n",
    "plt.tight_layout()\n",
    "plt.show()"
   ]
  },
  {
   "cell_type": "code",
   "execution_count": null,
   "id": "d42152c4",
   "metadata": {},
   "outputs": [],
   "source": []
  }
 ],
 "metadata": {
  "kernelspec": {
   "display_name": "Python 3 (ipykernel)",
   "language": "python",
   "name": "python3"
  },
  "language_info": {
   "codemirror_mode": {
    "name": "ipython",
    "version": 3
   },
   "file_extension": ".py",
   "mimetype": "text/x-python",
   "name": "python",
   "nbconvert_exporter": "python",
   "pygments_lexer": "ipython3",
   "version": "3.9.13"
  }
 },
 "nbformat": 4,
 "nbformat_minor": 5
}
